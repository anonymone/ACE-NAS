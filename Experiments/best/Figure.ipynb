{
 "cells": [
  {
   "cell_type": "code",
   "execution_count": 1,
   "metadata": {},
   "outputs": [],
   "source": [
    "%matplotlib inline\n",
    "import pandas \n",
    "from pandas import DataFrame\n",
    "import matplotlib.pyplot as plt\n",
    "import numpy as np"
   ]
  },
  {
   "cell_type": "code",
   "execution_count": 2,
   "metadata": {},
   "outputs": [],
   "source": [
    "path = './search-SEE_Exp-20190621-064030/'"
   ]
  },
  {
   "cell_type": "code",
   "execution_count": 3,
   "metadata": {},
   "outputs": [],
   "source": [
    "data_error = np.zeros((30,1))\n",
    "data_complex = np.zeros((30,1))\n",
    "for file in range(30):\n",
    "    data = pandas.read_csv(path+'Generation-{0}.csv'.format(file))\n",
    "    error = data['136'].values\n",
    "    complexity = data['137'].values\n",
    "    if len(error) != 30:\n",
    "        error = np.hstack([error,[np.mean(error) for _ in range(30 - len(error))]]).reshape(-1,1)\n",
    "    if len(complexity) != 30:\n",
    "        complexity = np.hstack([complexity,[np.mean(complexity) for _ in range(30 - len(complexity))]]).reshape(-1,1)\n",
    "    data_error = np.hstack([data_error, error.reshape(-1,1)])\n",
    "    data_complex = np.hstack([data_complex, complexity.reshape(-1,1)])"
   ]
  },
  {
   "cell_type": "code",
   "execution_count": 4,
   "metadata": {},
   "outputs": [],
   "source": [
    "data_error = data_error[:,1:]\n",
    "data_complex = data_complex[:,1:]"
   ]
  },
  {
   "cell_type": "code",
   "execution_count": 5,
   "metadata": {},
   "outputs": [],
   "source": [
    "data_best = np.min(data_error,0)\n",
    "data_complex_best = np.mean(data_complex,0)"
   ]
  },
  {
   "cell_type": "code",
   "execution_count": 27,
   "metadata": {},
   "outputs": [
    {
     "data": {
      "text/plain": [
       "<matplotlib.collections.PathCollection at 0x7fd3f567a048>"
      ]
     },
     "execution_count": 27,
     "metadata": {},
     "output_type": "execute_result"
    },
    {
     "data": {
      "image/png": "[encoded data removed]",
      "text/plain": [
       "<Figure size 360x288 with 1 Axes>"
      ]
     },
     "metadata": {
      "needs_background": "light"
     },
     "output_type": "display_data"
    }
   ],
   "source": [
    "fig =plt.figure(figsize=(5,4))\n",
    "index = np.array([[x]*30 for x in range(len(data_best))]).reshape(1,-1)\n",
    "plt.scatter(data_complex[:,0],data_error[:,0])\n",
    "#plt.scatter(data_complex[:,5],data_error[:,5])\n",
    "plt.scatter(data_complex[:,10],data_error[:,10])\n",
    "#plt.scatter(data_complex[:,15],data_error[:,15])\n",
    "#plt.scatter(data_complex[:,20],data_error[:,20])\n",
    "plt.scatter(data_complex[:,25],data_error[:,25])"
   ]
  },
  {
   "cell_type": "code",
   "execution_count": 28,
   "metadata": {},
   "outputs": [
    {
     "data": {
      "text/plain": [
       "{'boxes': [<matplotlib.lines.Line2D at 0x7fd3f562b6d8>,\n",
       "  <matplotlib.lines.Line2D at 0x7fd3f5634be0>,\n",
       "  <matplotlib.lines.Line2D at 0x7fd3f5642358>,\n",
       "  <matplotlib.lines.Line2D at 0x7fd3f5647a90>,\n",
       "  <matplotlib.lines.Line2D at 0x7fd3f55d6208>,\n",
       "  <matplotlib.lines.Line2D at 0x7fd3f55dd940>,\n",
       "  <matplotlib.lines.Line2D at 0x7fd3f55ea0b8>],\n",
       " 'caps': [<matplotlib.lines.Line2D at 0x7fd3f562beb8>,\n",
       "  <matplotlib.lines.Line2D at 0x7fd3f5634240>,\n",
       "  <matplotlib.lines.Line2D at 0x7fd3f5639630>,\n",
       "  <matplotlib.lines.Line2D at 0x7fd3f5639978>,\n",
       "  <matplotlib.lines.Line2D at 0x7fd3f5642d68>,\n",
       "  <matplotlib.lines.Line2D at 0x7fd3f56470f0>,\n",
       "  <matplotlib.lines.Line2D at 0x7fd3f55cd4e0>,\n",
       "  <matplotlib.lines.Line2D at 0x7fd3f55cd828>,\n",
       "  <matplotlib.lines.Line2D at 0x7fd3f55d6c18>,\n",
       "  <matplotlib.lines.Line2D at 0x7fd3f55d6f60>,\n",
       "  <matplotlib.lines.Line2D at 0x7fd3f55e3390>,\n",
       "  <matplotlib.lines.Line2D at 0x7fd3f55e36d8>,\n",
       "  <matplotlib.lines.Line2D at 0x7fd3f55eaac8>,\n",
       "  <matplotlib.lines.Line2D at 0x7fd3f55eae10>],\n",
       " 'fliers': [<matplotlib.lines.Line2D at 0x7fd3f56348d0>,\n",
       "  <matplotlib.lines.Line2D at 0x7fd3f5642048>,\n",
       "  <matplotlib.lines.Line2D at 0x7fd3f5647780>,\n",
       "  <matplotlib.lines.Line2D at 0x7fd3f55cdeb8>,\n",
       "  <matplotlib.lines.Line2D at 0x7fd3f55dd630>,\n",
       "  <matplotlib.lines.Line2D at 0x7fd3f55e3d68>,\n",
       "  <matplotlib.lines.Line2D at 0x7fd3f55f24e0>],\n",
       " 'means': [],\n",
       " 'medians': [<matplotlib.lines.Line2D at 0x7fd3f5634588>,\n",
       "  <matplotlib.lines.Line2D at 0x7fd3f5639cc0>,\n",
       "  <matplotlib.lines.Line2D at 0x7fd3f5647438>,\n",
       "  <matplotlib.lines.Line2D at 0x7fd3f55cdb70>,\n",
       "  <matplotlib.lines.Line2D at 0x7fd3f55dd2e8>,\n",
       "  <matplotlib.lines.Line2D at 0x7fd3f55e3a20>,\n",
       "  <matplotlib.lines.Line2D at 0x7fd3f55f2198>],\n",
       " 'whiskers': [<matplotlib.lines.Line2D at 0x7fd3f562b828>,\n",
       "  <matplotlib.lines.Line2D at 0x7fd3f562bb70>,\n",
       "  <matplotlib.lines.Line2D at 0x7fd3f5634f60>,\n",
       "  <matplotlib.lines.Line2D at 0x7fd3f56392e8>,\n",
       "  <matplotlib.lines.Line2D at 0x7fd3f56426d8>,\n",
       "  <matplotlib.lines.Line2D at 0x7fd3f5642a20>,\n",
       "  <matplotlib.lines.Line2D at 0x7fd3f5647e10>,\n",
       "  <matplotlib.lines.Line2D at 0x7fd3f55cd198>,\n",
       "  <matplotlib.lines.Line2D at 0x7fd3f55d6588>,\n",
       "  <matplotlib.lines.Line2D at 0x7fd3f55d68d0>,\n",
       "  <matplotlib.lines.Line2D at 0x7fd3f55ddcc0>,\n",
       "  <matplotlib.lines.Line2D at 0x7fd3f55e3048>,\n",
       "  <matplotlib.lines.Line2D at 0x7fd3f55ea438>,\n",
       "  <matplotlib.lines.Line2D at 0x7fd3f55ea780>]}"
      ]
     },
     "execution_count": 28,
     "metadata": {},
     "output_type": "execute_result"
    },
    {
     "data": {
      "image/png": "[encoded data removed]",
      "text/plain": [
       "<Figure size 360x288 with 1 Axes>"
      ]
     },
     "metadata": {
      "needs_background": "light"
     },
     "output_type": "display_data"
    }
   ],
   "source": [
    "fig2 =plt.figure(figsize=(5,4))\n",
    "plt.boxplot(data_complex[:,[0,5,10,15,20,25,-1]])"
   ]
  },
  {
   "cell_type": "code",
   "execution_count": 29,
   "metadata": {},
   "outputs": [
    {
     "data": {
      "text/plain": [
       "{'boxes': [<matplotlib.lines.Line2D at 0x7fd3f55aa128>,\n",
       "  <matplotlib.lines.Line2D at 0x7fd3f55b5630>,\n",
       "  <matplotlib.lines.Line2D at 0x7fd3f55bbd68>,\n",
       "  <matplotlib.lines.Line2D at 0x7fd3f55ca4e0>,\n",
       "  <matplotlib.lines.Line2D at 0x7fd3f5551c18>,\n",
       "  <matplotlib.lines.Line2D at 0x7fd3f555e390>,\n",
       "  <matplotlib.lines.Line2D at 0x7fd3f5566ac8>],\n",
       " 'caps': [<matplotlib.lines.Line2D at 0x7fd3f55aa908>,\n",
       "  <matplotlib.lines.Line2D at 0x7fd3f55aac50>,\n",
       "  <matplotlib.lines.Line2D at 0x7fd3f55bb080>,\n",
       "  <matplotlib.lines.Line2D at 0x7fd3f55bb3c8>,\n",
       "  <matplotlib.lines.Line2D at 0x7fd3f55c47b8>,\n",
       "  <matplotlib.lines.Line2D at 0x7fd3f55c4b00>,\n",
       "  <matplotlib.lines.Line2D at 0x7fd3f55caef0>,\n",
       "  <matplotlib.lines.Line2D at 0x7fd3f5551278>,\n",
       "  <matplotlib.lines.Line2D at 0x7fd3f5556668>,\n",
       "  <matplotlib.lines.Line2D at 0x7fd3f55569b0>,\n",
       "  <matplotlib.lines.Line2D at 0x7fd3f555eda0>,\n",
       "  <matplotlib.lines.Line2D at 0x7fd3f5566128>,\n",
       "  <matplotlib.lines.Line2D at 0x7fd3f556b518>,\n",
       "  <matplotlib.lines.Line2D at 0x7fd3f556b860>],\n",
       " 'fliers': [<matplotlib.lines.Line2D at 0x7fd3f55b5320>,\n",
       "  <matplotlib.lines.Line2D at 0x7fd3f55bba58>,\n",
       "  <matplotlib.lines.Line2D at 0x7fd3f55ca1d0>,\n",
       "  <matplotlib.lines.Line2D at 0x7fd3f5551908>,\n",
       "  <matplotlib.lines.Line2D at 0x7fd3f555e080>,\n",
       "  <matplotlib.lines.Line2D at 0x7fd3f55667b8>,\n",
       "  <matplotlib.lines.Line2D at 0x7fd3f556bef0>],\n",
       " 'means': [],\n",
       " 'medians': [<matplotlib.lines.Line2D at 0x7fd3f55aaf98>,\n",
       "  <matplotlib.lines.Line2D at 0x7fd3f55bb710>,\n",
       "  <matplotlib.lines.Line2D at 0x7fd3f55c4e48>,\n",
       "  <matplotlib.lines.Line2D at 0x7fd3f55515c0>,\n",
       "  <matplotlib.lines.Line2D at 0x7fd3f5556cf8>,\n",
       "  <matplotlib.lines.Line2D at 0x7fd3f5566470>,\n",
       "  <matplotlib.lines.Line2D at 0x7fd3f556bba8>],\n",
       " 'whiskers': [<matplotlib.lines.Line2D at 0x7fd3f55aa278>,\n",
       "  <matplotlib.lines.Line2D at 0x7fd3f55aa5c0>,\n",
       "  <matplotlib.lines.Line2D at 0x7fd3f55b59b0>,\n",
       "  <matplotlib.lines.Line2D at 0x7fd3f55b5cf8>,\n",
       "  <matplotlib.lines.Line2D at 0x7fd3f55c4128>,\n",
       "  <matplotlib.lines.Line2D at 0x7fd3f55c4470>,\n",
       "  <matplotlib.lines.Line2D at 0x7fd3f55ca860>,\n",
       "  <matplotlib.lines.Line2D at 0x7fd3f55caba8>,\n",
       "  <matplotlib.lines.Line2D at 0x7fd3f5551f98>,\n",
       "  <matplotlib.lines.Line2D at 0x7fd3f5556320>,\n",
       "  <matplotlib.lines.Line2D at 0x7fd3f555e710>,\n",
       "  <matplotlib.lines.Line2D at 0x7fd3f555ea58>,\n",
       "  <matplotlib.lines.Line2D at 0x7fd3f5566e48>,\n",
       "  <matplotlib.lines.Line2D at 0x7fd3f556b1d0>]}"
      ]
     },
     "execution_count": 29,
     "metadata": {},
     "output_type": "execute_result"
    },
    {
     "data": {
      "image/png": "[encoded data removed]",
      "text/plain": [
       "<Figure size 360x288 with 1 Axes>"
      ]
     },
     "metadata": {
      "needs_background": "light"
     },
     "output_type": "display_data"
    }
   ],
   "source": [
    "fig3 =plt.figure(figsize=(5,4))\n",
    "plt.boxplot(data_error[:,[0,5,10,15,20,25,-1]])"
   ]
  },
  {
   "cell_type": "code",
   "execution_count": null,
   "metadata": {},
   "outputs": [],
   "source": []
  }
 ],
 "metadata": {
  "kernelspec": {
   "display_name": "Python 3",
   "language": "python",
   "name": "python3"
  },
  "language_info": {
   "codemirror_mode": {
    "name": "ipython",
    "version": 3
   },
   "file_extension": ".py",
   "mimetype": "text/x-python",
   "name": "python",
   "nbconvert_exporter": "python",
   "pygments_lexer": "ipython3",
   "version": "3.5.2"
  }
 },
 "nbformat": 4,
 "nbformat_minor": 2
}
