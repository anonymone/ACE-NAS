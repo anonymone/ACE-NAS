{
 "cells": [
  {
   "cell_type": "code",
   "execution_count": 1,
   "metadata": {},
   "outputs": [],
   "source": [
    "import configparser\n",
    "import sys\n",
    "import torch\n",
    "import torchvision\n",
    "import torchvision.transforms as transforms\n",
    "import torch.nn as nn\n",
    "sys.path.append('../')\n",
    "sys.path.append('../Population/')\n",
    "sys.path.append('../Engine/')"
   ]
  },
  {
   "cell_type": "code",
   "execution_count": 2,
   "metadata": {},
   "outputs": [
    {
     "data": {
      "text/plain": [
       "['./config.txt']"
      ]
     },
     "execution_count": 2,
     "metadata": {},
     "output_type": "execute_result"
    }
   ],
   "source": [
    "config = configparser.ConfigParser()\n",
    "config.read('./config.txt')"
   ]
  },
  {
   "cell_type": "code",
   "execution_count": 3,
   "metadata": {},
   "outputs": [],
   "source": [
    "from individual import individual\n",
    "from population import population\n",
    "from StateControl import decoder"
   ]
  },
  {
   "cell_type": "code",
   "execution_count": 4,
   "metadata": {},
   "outputs": [],
   "source": [
    "pop = population(config=config)"
   ]
  },
  {
   "cell_type": "code",
   "execution_count": 5,
   "metadata": {},
   "outputs": [],
   "source": [
    "ind = pop.get_population()\n",
    "ind = ind[0]"
   ]
  },
  {
   "cell_type": "code",
   "execution_count": 6,
   "metadata": {},
   "outputs": [],
   "source": [
    "decoder = decoder(config['individual setting'])"
   ]
  },
  {
   "cell_type": "code",
   "execution_count": 7,
   "metadata": {},
   "outputs": [
    {
     "name": "stdout",
     "output_type": "stream",
     "text": [
      "[1] [7 7 4 1 1 7 2]\n",
      "[7] [7 4 1 1 7 2 1]\n",
      "[7] [4 1 1 7 2 1 6]\n",
      "[4] [1 1 7 2 1 6 9]\n",
      "[1] [1 7 2 1 6 9 7]\n"
     ]
    },
    {
     "data": {
      "text/plain": [
       "Sequential(\n",
       "  (0): ConvolutionLayer(\n",
       "    (conv): Conv2d(3, 210, kernel_size=(2, 2), stride=(1, 1))\n",
       "    (bn): BatchNorm2d(210, eps=1e-05, momentum=0.1, affine=True, track_running_stats=True)\n",
       "  )\n",
       "  (1): ConvolutionLayer(\n",
       "    (conv): Conv2d(210, 120, kernel_size=(2, 2), stride=(1, 1))\n",
       "    (bn): BatchNorm2d(120, eps=1e-05, momentum=0.1, affine=True, track_running_stats=True)\n",
       "  )\n",
       "  (2): ConvolutionLayer(\n",
       "    (conv): Conv2d(120, 30, kernel_size=(2, 2), stride=(1, 1))\n",
       "    (bn): BatchNorm2d(30, eps=1e-05, momentum=0.1, affine=True, track_running_stats=True)\n",
       "  )\n",
       "  (3): ConvolutionLayer(\n",
       "    (conv): Conv2d(30, 30, kernel_size=(2, 2), stride=(1, 1))\n",
       "    (bn): BatchNorm2d(30, eps=1e-05, momentum=0.1, affine=True, track_running_stats=True)\n",
       "  )\n",
       "  (4): ConvolutionLayer(\n",
       "    (conv): Conv2d(30, 210, kernel_size=(3, 3), stride=(1, 1))\n",
       "    (bn): BatchNorm2d(210, eps=1e-05, momentum=0.1, affine=True, track_running_stats=True)\n",
       "  )\n",
       ")"
      ]
     },
     "execution_count": 7,
     "metadata": {},
     "output_type": "execute_result"
    }
   ],
   "source": [
    "model = decoder.get_model(ind.get_dec())\n",
    "model"
   ]
  },
  {
   "cell_type": "code",
   "execution_count": 8,
   "metadata": {},
   "outputs": [],
   "source": [
    "class linear(nn.Module):\n",
    "    def __init__(self,inSize,channelSize):\n",
    "        super(linear, self).__init__()\n",
    "        self.inSize = inSize\n",
    "        self.channelSize = channelSize\n",
    "        self.fc1 = nn.Linear(inSize*inSize*channelSize, 120)\n",
    "        self.fc2 = nn.Linear(120, 84)\n",
    "        self.fc3 = nn.Linear(84, 10)\n",
    "    \n",
    "    def forward(self, x):\n",
    "        x = x.view(-1, self.inSize*self.inSize*self.channelSize)\n",
    "        x = F.relu(self.fc1(x))\n",
    "        x = F.relu(self.fc2(x))\n",
    "        x = self.fc3(x)\n",
    "        return x"
   ]
  },
  {
   "cell_type": "code",
   "execution_count": 9,
   "metadata": {},
   "outputs": [],
   "source": [
    "linearLayer = linear(decoder.fullConnectLayerSize,decoder.previousOutSize)"
   ]
  },
  {
   "cell_type": "code",
   "execution_count": 10,
   "metadata": {},
   "outputs": [],
   "source": [
    "model = nn.Sequential(\n",
    "    model,\n",
    "    linearLayer\n",
    ")"
   ]
  },
  {
   "cell_type": "code",
   "execution_count": 11,
   "metadata": {},
   "outputs": [
    {
     "name": "stdout",
     "output_type": "stream",
     "text": [
      "Files already downloaded and verified\n",
      "Files already downloaded and verified\n"
     ]
    }
   ],
   "source": [
    "transform = transforms.Compose(\n",
    "    [transforms.ToTensor(),\n",
    "     transforms.Normalize((0.5, 0.5, 0.5), (0.5, 0.5, 0.5))])\n",
    "\n",
    "trainset = torchvision.datasets.CIFAR10(root='../Dataset/cafir10/', train=True,\n",
    "                                        download=True, transform=transform)\n",
    "trainloader = torch.utils.data.DataLoader(trainset, batch_size=32,\n",
    "                                          shuffle=True, num_workers=0)\n",
    "\n",
    "testset = torchvision.datasets.CIFAR10(root='../Dataset/cafir10/', train=False,\n",
    "                                       download=True, transform=transform)\n",
    "testloader = torch.utils.data.DataLoader(testset, batch_size=32,\n",
    "                                         shuffle=False, num_workers=0)\n",
    "\n",
    "classes = ('plane', 'car', 'bird', 'cat',\n",
    "           'deer', 'dog', 'frog', 'horse', 'ship', 'truck')"
   ]
  },
  {
   "cell_type": "code",
   "execution_count": 12,
   "metadata": {},
   "outputs": [],
   "source": [
    "device = torch.device(\"cuda:0\" if torch.cuda.is_available() else \"cpu\")"
   ]
  },
  {
   "cell_type": "code",
   "execution_count": 13,
   "metadata": {},
   "outputs": [],
   "source": [
    "import torch.optim as optim\n",
    "\n",
    "criterion = nn.CrossEntropyLoss()\n",
    "optimizer = optim.SGD(model.parameters(), lr=0.001, momentum=0.9)"
   ]
  },
  {
   "cell_type": "code",
   "execution_count": 14,
   "metadata": {},
   "outputs": [
    {
     "data": {
      "text/plain": [
       "Sequential(\n",
       "  (0): Sequential(\n",
       "    (0): ConvolutionLayer(\n",
       "      (conv): Conv2d(3, 210, kernel_size=(2, 2), stride=(1, 1))\n",
       "      (bn): BatchNorm2d(210, eps=1e-05, momentum=0.1, affine=True, track_running_stats=True)\n",
       "    )\n",
       "    (1): ConvolutionLayer(\n",
       "      (conv): Conv2d(210, 120, kernel_size=(2, 2), stride=(1, 1))\n",
       "      (bn): BatchNorm2d(120, eps=1e-05, momentum=0.1, affine=True, track_running_stats=True)\n",
       "    )\n",
       "    (2): ConvolutionLayer(\n",
       "      (conv): Conv2d(120, 30, kernel_size=(2, 2), stride=(1, 1))\n",
       "      (bn): BatchNorm2d(30, eps=1e-05, momentum=0.1, affine=True, track_running_stats=True)\n",
       "    )\n",
       "    (3): ConvolutionLayer(\n",
       "      (conv): Conv2d(30, 30, kernel_size=(2, 2), stride=(1, 1))\n",
       "      (bn): BatchNorm2d(30, eps=1e-05, momentum=0.1, affine=True, track_running_stats=True)\n",
       "    )\n",
       "    (4): ConvolutionLayer(\n",
       "      (conv): Conv2d(30, 210, kernel_size=(3, 3), stride=(1, 1))\n",
       "      (bn): BatchNorm2d(210, eps=1e-05, momentum=0.1, affine=True, track_running_stats=True)\n",
       "    )\n",
       "  )\n",
       "  (1): linear(\n",
       "    (fc1): Linear(in_features=141960, out_features=120, bias=True)\n",
       "    (fc2): Linear(in_features=120, out_features=84, bias=True)\n",
       "    (fc3): Linear(in_features=84, out_features=10, bias=True)\n",
       "  )\n",
       ")"
      ]
     },
     "execution_count": 14,
     "metadata": {},
     "output_type": "execute_result"
    }
   ],
   "source": [
    "model.to(device)"
   ]
  },
  {
   "cell_type": "code",
   "execution_count": 15,
   "metadata": {},
   "outputs": [],
   "source": [
    "import torch.nn.functional as F"
   ]
  },
  {
   "cell_type": "code",
   "execution_count": null,
   "metadata": {},
   "outputs": [
    {
     "name": "stdout",
     "output_type": "stream",
     "text": [
      "[1,   200] loss: 0.184\n",
      "[1,   400] loss: 0.149\n",
      "[1,   600] loss: 0.133\n",
      "[1,   800] loss: 0.128\n",
      "[1,  1000] loss: 0.124\n",
      "[1,  1200] loss: 0.119\n",
      "[1,  1400] loss: 0.109\n",
      "[2,   200] loss: 0.098\n",
      "[2,   400] loss: 0.095\n",
      "[2,   600] loss: 0.095\n",
      "[2,   800] loss: 0.094\n",
      "[2,  1000] loss: 0.094\n",
      "[2,  1200] loss: 0.090\n",
      "[2,  1400] loss: 0.089\n",
      "[3,   200] loss: 0.076\n",
      "[3,   400] loss: 0.075\n",
      "[3,   600] loss: 0.076\n",
      "[3,   800] loss: 0.074\n",
      "[3,  1000] loss: 0.074\n",
      "[3,  1200] loss: 0.076\n",
      "[3,  1400] loss: 0.074\n",
      "[4,   200] loss: 0.056\n",
      "[4,   400] loss: 0.061\n",
      "[4,   600] loss: 0.060\n",
      "[4,   800] loss: 0.061\n",
      "[4,  1000] loss: 0.060\n",
      "[4,  1200] loss: 0.063\n",
      "[4,  1400] loss: 0.059\n",
      "[5,   200] loss: 0.044\n",
      "[5,   400] loss: 0.046\n",
      "[5,   600] loss: 0.043\n",
      "[5,   800] loss: 0.045\n",
      "[5,  1000] loss: 0.047\n",
      "[5,  1200] loss: 0.049\n",
      "[5,  1400] loss: 0.047\n",
      "[6,   200] loss: 0.029\n",
      "[6,   400] loss: 0.032\n",
      "[6,   600] loss: 0.031\n",
      "[6,   800] loss: 0.032\n",
      "[6,  1000] loss: 0.031\n",
      "[6,  1200] loss: 0.033\n",
      "[6,  1400] loss: 0.035\n"
     ]
    }
   ],
   "source": [
    "for epoch in range(30):  # loop over the dataset multiple times\n",
    "\n",
    "    running_loss = 0.0\n",
    "    for i, data in enumerate(trainloader, 0):\n",
    "        # get the inputs\n",
    "        inputs, labels = data\n",
    "        inputs, labels =inputs.to(device), labels.to(device)\n",
    "        # zero the parameter gradients\n",
    "        optimizer.zero_grad()\n",
    "\n",
    "        # forward + backward + optimize\n",
    "        outputs = model(inputs)\n",
    "        loss = criterion(outputs, labels)\n",
    "        loss.backward()\n",
    "        optimizer.step()\n",
    "\n",
    "        # print statistics\n",
    "        running_loss += loss.item()\n",
    "        if i % 200 == 199:    # print every 2000 mini-batches\n",
    "            print('[%d, %5d] loss: %.3f' %\n",
    "                  (epoch + 1, i + 1, running_loss / 2000))\n",
    "            running_loss = 0.0\n",
    "\n",
    "print('Finished Training')"
   ]
  },
  {
   "cell_type": "code",
   "execution_count": null,
   "metadata": {},
   "outputs": [],
   "source": [
    "correct = 0\n",
    "total = 0\n",
    "with torch.no_grad():\n",
    "    for data in trainloader:\n",
    "        images, labels = data\n",
    "        images, labels =images.to(device), labels.to(device)\n",
    "        outputs = model(images)\n",
    "        _, predicted = torch.max(outputs.data, 1)\n",
    "        total += labels.size(0)\n",
    "        correct += (predicted == labels).sum().item()\n",
    "\n",
    "print('Accuracy of the network on the 10000 test images: %d %%' % (\n",
    "    100 * correct / total))"
   ]
  },
  {
   "cell_type": "code",
   "execution_count": null,
   "metadata": {},
   "outputs": [],
   "source": [
    "2257920/15210"
   ]
  },
  {
   "cell_type": "code",
   "execution_count": null,
   "metadata": {},
   "outputs": [],
   "source": [
    "15210*32"
   ]
  },
  {
   "cell_type": "code",
   "execution_count": null,
   "metadata": {},
   "outputs": [],
   "source": []
  }
 ],
 "metadata": {
  "kernelspec": {
   "display_name": "Python 3",
   "language": "python",
   "name": "python3"
  },
  "language_info": {
   "codemirror_mode": {
    "name": "ipython",
    "version": 3
   },
   "file_extension": ".py",
   "mimetype": "text/x-python",
   "name": "python",
   "nbconvert_exporter": "python",
   "pygments_lexer": "ipython3",
   "version": "3.5.4"
  }
 },
 "nbformat": 4,
 "nbformat_minor": 2
}
